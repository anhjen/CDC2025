{
 "cells": [
  {
   "cell_type": "code",
   "execution_count": 34,
   "id": "348b6ed8-6ed7-4f67-a975-689cd8bf56e0",
   "metadata": {},
   "outputs": [],
   "source": [
    "from datascience import *\n",
    "import numpy as np\n",
    "import pandas as pd\n",
    "\n",
    "%matplotlib inline\n",
    "import matplotlib.pyplot as plots\n",
    "plots.style.use('fivethirtyeight')"
   ]
  },
  {
   "cell_type": "code",
   "execution_count": 35,
   "id": "801e6084-8c25-4c0e-a297-99cf9c37a5fe",
   "metadata": {},
   "outputs": [],
   "source": [
    "astronauts = pd.read_csv(\"astronauts.csv\")"
   ]
  },
  {
   "cell_type": "code",
   "execution_count": 36,
   "id": "83ff0d9e-f6d8-4d5c-a5cf-e7a8ea850944",
   "metadata": {},
   "outputs": [],
   "source": [
    "internationalastro = pd.read_csv(\"International Astronaut Database (2).csv\")"
   ]
  },
  {
   "cell_type": "code",
   "execution_count": 45,
   "id": "cb447352-24ac-4458-84f5-143aa2504490",
   "metadata": {},
   "outputs": [],
   "source": [
    "internationalastro = internationalastro[internationalastro[\"Country\"] != \"United States\"]\n",
    "internationalastro = internationalastro.reset_index(drop=True)"
   ]
  },
  {
   "cell_type": "code",
   "execution_count": 44,
   "id": "2667ce77-614b-461e-bb7e-02de64fddad7",
   "metadata": {},
   "outputs": [],
   "source": [
    "internationalastro.to_csv(\"international_astronauts_no_US.csv\", index=False)"
   ]
  },
  {
   "cell_type": "code",
   "execution_count": 47,
   "id": "5dc2b1ad-31b6-48d5-b7de-ab13c7dd4c78",
   "metadata": {},
   "outputs": [
    {
     "data": {
      "text/plain": [
       "['3', '3', '3']"
      ]
     },
     "execution_count": 47,
     "metadata": {},
     "output_type": "execute_result"
    }
   ],
   "source": [
    "string_test = \"3:3:3\"\n",
    "t2 = string_test.split(\":\")\n",
    "t2"
   ]
  },
  {
   "cell_type": "code",
   "execution_count": 51,
   "id": "5f2968d8-62bf-4c1d-9d29-be620bba31fc",
   "metadata": {},
   "outputs": [
    {
     "data": {
      "text/plain": [
       "<map at 0x3221000d0>"
      ]
     },
     "execution_count": 51,
     "metadata": {},
     "output_type": "execute_result"
    }
   ],
   "source": [
    "map(int, t2)"
   ]
  },
  {
   "cell_type": "code",
   "execution_count": 54,
   "id": "e369cf0c-415e-4ccc-a8b1-fc51234b0daa",
   "metadata": {},
   "outputs": [],
   "source": [
    "def convert_to_min(time):\n",
    "    d , h, m = map(int, time.split(\":\"))\n",
    "    return d*24*60 + h*60 + m"
   ]
  },
  {
   "cell_type": "code",
   "execution_count": 55,
   "id": "5ed2b4d9-b97a-4776-a577-27afe0288124",
   "metadata": {},
   "outputs": [
    {
     "data": {
      "text/plain": [
       "4503"
      ]
     },
     "execution_count": 55,
     "metadata": {},
     "output_type": "execute_result"
    }
   ],
   "source": [
    "convert_to_min(\"3:3:3\")"
   ]
  },
  {
   "cell_type": "code",
   "execution_count": null,
   "id": "efa944e8-7979-4ec8-ae2d-df44f9e5e200",
   "metadata": {},
   "outputs": [],
   "source": []
  },
  {
   "cell_type": "code",
   "execution_count": 57,
   "id": "6564d13c-5b84-47ab-951e-6883720a2f8f",
   "metadata": {},
   "outputs": [
    {
     "data": {
      "text/plain": [
       "4503"
      ]
     },
     "execution_count": 57,
     "metadata": {},
     "output_type": "execute_result"
    }
   ],
   "source": [
    "(3*24*60) + (3*60) + 3"
   ]
  },
  {
   "cell_type": "code",
   "execution_count": 64,
   "id": "f2e99459-143f-4d53-bf71-fe4423c4c488",
   "metadata": {},
   "outputs": [],
   "source": [
    "internationalastro_minutes = internationalastro[\"Total Flight Time in Minutes\"] = internationalastro[\"Total Flight Time (ddd:hh:mm)\"].apply(convert_to_min)"
   ]
  },
  {
   "cell_type": "code",
   "execution_count": 70,
   "id": "e86ebd54-bf56-4312-9331-7497a9139986",
   "metadata": {},
   "outputs": [],
   "source": [
    "internationalastro_minutes.to_csv(\"international_astronauts_minutes.csv\", index=False)"
   ]
  },
  {
   "cell_type": "code",
   "execution_count": 71,
   "id": "a8a43653-9593-4d9b-bd12-f0c8f155eeeb",
   "metadata": {},
   "outputs": [],
   "source": [
    "internationalastro.to_csv(\"International_Astronaut_Database_with_Minutes.csv\", index=False)"
   ]
  },
  {
   "cell_type": "code",
   "execution_count": 79,
   "id": "b7740b1e-5e70-4bdc-a27a-2c31f60d282b",
   "metadata": {},
   "outputs": [
    {
     "ename": "KeyError",
     "evalue": "\"['Total Flight Time (ddd:hh:mm)'] not found in axis\"",
     "output_type": "error",
     "traceback": [
      "\u001b[0;31m---------------------------------------------------------------------------\u001b[0m",
      "\u001b[0;31mKeyError\u001b[0m                                  Traceback (most recent call last)",
      "Cell \u001b[0;32mIn[79], line 1\u001b[0m\n\u001b[0;32m----> 1\u001b[0m internationalastro \u001b[38;5;241m=\u001b[39m internationalastro\u001b[38;5;241m.\u001b[39mdrop(columns\u001b[38;5;241m=\u001b[39m[\u001b[38;5;124m\"\u001b[39m\u001b[38;5;124mTotal Flight Time (ddd:hh:mm)\u001b[39m\u001b[38;5;124m\"\u001b[39m])\n",
      "File \u001b[0;32m/opt/anaconda3/lib/python3.13/site-packages/pandas/core/frame.py:5581\u001b[0m, in \u001b[0;36mDataFrame.drop\u001b[0;34m(self, labels, axis, index, columns, level, inplace, errors)\u001b[0m\n\u001b[1;32m   5433\u001b[0m \u001b[38;5;28;01mdef\u001b[39;00m\u001b[38;5;250m \u001b[39m\u001b[38;5;21mdrop\u001b[39m(\n\u001b[1;32m   5434\u001b[0m     \u001b[38;5;28mself\u001b[39m,\n\u001b[1;32m   5435\u001b[0m     labels: IndexLabel \u001b[38;5;241m|\u001b[39m \u001b[38;5;28;01mNone\u001b[39;00m \u001b[38;5;241m=\u001b[39m \u001b[38;5;28;01mNone\u001b[39;00m,\n\u001b[0;32m   (...)\u001b[0m\n\u001b[1;32m   5442\u001b[0m     errors: IgnoreRaise \u001b[38;5;241m=\u001b[39m \u001b[38;5;124m\"\u001b[39m\u001b[38;5;124mraise\u001b[39m\u001b[38;5;124m\"\u001b[39m,\n\u001b[1;32m   5443\u001b[0m ) \u001b[38;5;241m-\u001b[39m\u001b[38;5;241m>\u001b[39m DataFrame \u001b[38;5;241m|\u001b[39m \u001b[38;5;28;01mNone\u001b[39;00m:\n\u001b[1;32m   5444\u001b[0m \u001b[38;5;250m    \u001b[39m\u001b[38;5;124;03m\"\"\"\u001b[39;00m\n\u001b[1;32m   5445\u001b[0m \u001b[38;5;124;03m    Drop specified labels from rows or columns.\u001b[39;00m\n\u001b[1;32m   5446\u001b[0m \n\u001b[0;32m   (...)\u001b[0m\n\u001b[1;32m   5579\u001b[0m \u001b[38;5;124;03m            weight  1.0     0.8\u001b[39;00m\n\u001b[1;32m   5580\u001b[0m \u001b[38;5;124;03m    \"\"\"\u001b[39;00m\n\u001b[0;32m-> 5581\u001b[0m     \u001b[38;5;28;01mreturn\u001b[39;00m \u001b[38;5;28msuper\u001b[39m()\u001b[38;5;241m.\u001b[39mdrop(\n\u001b[1;32m   5582\u001b[0m         labels\u001b[38;5;241m=\u001b[39mlabels,\n\u001b[1;32m   5583\u001b[0m         axis\u001b[38;5;241m=\u001b[39maxis,\n\u001b[1;32m   5584\u001b[0m         index\u001b[38;5;241m=\u001b[39mindex,\n\u001b[1;32m   5585\u001b[0m         columns\u001b[38;5;241m=\u001b[39mcolumns,\n\u001b[1;32m   5586\u001b[0m         level\u001b[38;5;241m=\u001b[39mlevel,\n\u001b[1;32m   5587\u001b[0m         inplace\u001b[38;5;241m=\u001b[39minplace,\n\u001b[1;32m   5588\u001b[0m         errors\u001b[38;5;241m=\u001b[39merrors,\n\u001b[1;32m   5589\u001b[0m     )\n",
      "File \u001b[0;32m/opt/anaconda3/lib/python3.13/site-packages/pandas/core/generic.py:4788\u001b[0m, in \u001b[0;36mNDFrame.drop\u001b[0;34m(self, labels, axis, index, columns, level, inplace, errors)\u001b[0m\n\u001b[1;32m   4786\u001b[0m \u001b[38;5;28;01mfor\u001b[39;00m axis, labels \u001b[38;5;129;01min\u001b[39;00m axes\u001b[38;5;241m.\u001b[39mitems():\n\u001b[1;32m   4787\u001b[0m     \u001b[38;5;28;01mif\u001b[39;00m labels \u001b[38;5;129;01mis\u001b[39;00m \u001b[38;5;129;01mnot\u001b[39;00m \u001b[38;5;28;01mNone\u001b[39;00m:\n\u001b[0;32m-> 4788\u001b[0m         obj \u001b[38;5;241m=\u001b[39m obj\u001b[38;5;241m.\u001b[39m_drop_axis(labels, axis, level\u001b[38;5;241m=\u001b[39mlevel, errors\u001b[38;5;241m=\u001b[39merrors)\n\u001b[1;32m   4790\u001b[0m \u001b[38;5;28;01mif\u001b[39;00m inplace:\n\u001b[1;32m   4791\u001b[0m     \u001b[38;5;28mself\u001b[39m\u001b[38;5;241m.\u001b[39m_update_inplace(obj)\n",
      "File \u001b[0;32m/opt/anaconda3/lib/python3.13/site-packages/pandas/core/generic.py:4830\u001b[0m, in \u001b[0;36mNDFrame._drop_axis\u001b[0;34m(self, labels, axis, level, errors, only_slice)\u001b[0m\n\u001b[1;32m   4828\u001b[0m         new_axis \u001b[38;5;241m=\u001b[39m axis\u001b[38;5;241m.\u001b[39mdrop(labels, level\u001b[38;5;241m=\u001b[39mlevel, errors\u001b[38;5;241m=\u001b[39merrors)\n\u001b[1;32m   4829\u001b[0m     \u001b[38;5;28;01melse\u001b[39;00m:\n\u001b[0;32m-> 4830\u001b[0m         new_axis \u001b[38;5;241m=\u001b[39m axis\u001b[38;5;241m.\u001b[39mdrop(labels, errors\u001b[38;5;241m=\u001b[39merrors)\n\u001b[1;32m   4831\u001b[0m     indexer \u001b[38;5;241m=\u001b[39m axis\u001b[38;5;241m.\u001b[39mget_indexer(new_axis)\n\u001b[1;32m   4833\u001b[0m \u001b[38;5;66;03m# Case for non-unique axis\u001b[39;00m\n\u001b[1;32m   4834\u001b[0m \u001b[38;5;28;01melse\u001b[39;00m:\n",
      "File \u001b[0;32m/opt/anaconda3/lib/python3.13/site-packages/pandas/core/indexes/base.py:7070\u001b[0m, in \u001b[0;36mIndex.drop\u001b[0;34m(self, labels, errors)\u001b[0m\n\u001b[1;32m   7068\u001b[0m \u001b[38;5;28;01mif\u001b[39;00m mask\u001b[38;5;241m.\u001b[39many():\n\u001b[1;32m   7069\u001b[0m     \u001b[38;5;28;01mif\u001b[39;00m errors \u001b[38;5;241m!=\u001b[39m \u001b[38;5;124m\"\u001b[39m\u001b[38;5;124mignore\u001b[39m\u001b[38;5;124m\"\u001b[39m:\n\u001b[0;32m-> 7070\u001b[0m         \u001b[38;5;28;01mraise\u001b[39;00m \u001b[38;5;167;01mKeyError\u001b[39;00m(\u001b[38;5;124mf\u001b[39m\u001b[38;5;124m\"\u001b[39m\u001b[38;5;132;01m{\u001b[39;00mlabels[mask]\u001b[38;5;241m.\u001b[39mtolist()\u001b[38;5;132;01m}\u001b[39;00m\u001b[38;5;124m not found in axis\u001b[39m\u001b[38;5;124m\"\u001b[39m)\n\u001b[1;32m   7071\u001b[0m     indexer \u001b[38;5;241m=\u001b[39m indexer[\u001b[38;5;241m~\u001b[39mmask]\n\u001b[1;32m   7072\u001b[0m \u001b[38;5;28;01mreturn\u001b[39;00m \u001b[38;5;28mself\u001b[39m\u001b[38;5;241m.\u001b[39mdelete(indexer)\n",
      "\u001b[0;31mKeyError\u001b[0m: \"['Total Flight Time (ddd:hh:mm)'] not found in axis\""
     ]
    }
   ],
   "source": [
    "internationalastro = internationalastro.drop(columns=[\"Total Flight Time (ddd:hh:mm)\"])"
   ]
  },
  {
   "cell_type": "code",
   "execution_count": 80,
   "id": "09c488dc-6a42-49c3-96c6-101ad2d9e7a7",
   "metadata": {},
   "outputs": [
    {
     "data": {
      "text/html": [
       "<div>\n",
       "<style scoped>\n",
       "    .dataframe tbody tr th:only-of-type {\n",
       "        vertical-align: middle;\n",
       "    }\n",
       "\n",
       "    .dataframe tbody tr th {\n",
       "        vertical-align: top;\n",
       "    }\n",
       "\n",
       "    .dataframe thead th {\n",
       "        text-align: right;\n",
       "    }\n",
       "</style>\n",
       "<table border=\"1\" class=\"dataframe\">\n",
       "  <thead>\n",
       "    <tr style=\"text-align: right;\">\n",
       "      <th></th>\n",
       "      <th>Name</th>\n",
       "      <th>country</th>\n",
       "      <th>Gender</th>\n",
       "      <th>Flights</th>\n",
       "      <th>Total Flights</th>\n",
       "      <th>Total Flight Time in Minutes</th>\n",
       "    </tr>\n",
       "  </thead>\n",
       "  <tbody>\n",
       "    <tr>\n",
       "      <th>0</th>\n",
       "      <td>Zhang Xiaoguang</td>\n",
       "      <td>China</td>\n",
       "      <td>Man</td>\n",
       "      <td>Shenzhou 10 (2013)</td>\n",
       "      <td>1</td>\n",
       "      <td>21028</td>\n",
       "    </tr>\n",
       "    <tr>\n",
       "      <th>1</th>\n",
       "      <td>Zhai Zhigang</td>\n",
       "      <td>China</td>\n",
       "      <td>Man</td>\n",
       "      <td>Shenzhou 7 (2008)</td>\n",
       "      <td>1</td>\n",
       "      <td>4106</td>\n",
       "    </tr>\n",
       "    <tr>\n",
       "      <th>2</th>\n",
       "      <td>Yury Usachov</td>\n",
       "      <td>Russia</td>\n",
       "      <td>Man</td>\n",
       "      <td>Soyuz TM-18 (1994), Soyuz TM-23 (1996), STS-10...</td>\n",
       "      <td>4</td>\n",
       "      <td>796224</td>\n",
       "    </tr>\n",
       "    <tr>\n",
       "      <th>3</th>\n",
       "      <td>Yuri Shargin</td>\n",
       "      <td>Russia</td>\n",
       "      <td>Man</td>\n",
       "      <td>Soyuz TMA-5 (2004)</td>\n",
       "      <td>1</td>\n",
       "      <td>14249</td>\n",
       "    </tr>\n",
       "    <tr>\n",
       "      <th>4</th>\n",
       "      <td>Yuri Romanenko</td>\n",
       "      <td>Soviet Union</td>\n",
       "      <td>Man</td>\n",
       "      <td>Soyuz 26 (1977), Soyuz 38 (1980), Soyuz TM-2 (...</td>\n",
       "      <td>3</td>\n",
       "      <td>620301</td>\n",
       "    </tr>\n",
       "    <tr>\n",
       "      <th>...</th>\n",
       "      <td>...</td>\n",
       "      <td>...</td>\n",
       "      <td>...</td>\n",
       "      <td>...</td>\n",
       "      <td>...</td>\n",
       "      <td>...</td>\n",
       "    </tr>\n",
       "    <tr>\n",
       "      <th>218</th>\n",
       "      <td>Aleksandr Ivanchenkov</td>\n",
       "      <td>Soviet Union</td>\n",
       "      <td>Man</td>\n",
       "      <td>Soyuz 29 (1978)</td>\n",
       "      <td>1</td>\n",
       "      <td>201047</td>\n",
       "    </tr>\n",
       "    <tr>\n",
       "      <th>219</th>\n",
       "      <td>Aleksandr Balandin</td>\n",
       "      <td>Soviet Union</td>\n",
       "      <td>Man</td>\n",
       "      <td>Soyuz TM-9 (1990)</td>\n",
       "      <td>1</td>\n",
       "      <td>257837</td>\n",
       "    </tr>\n",
       "    <tr>\n",
       "      <th>220</th>\n",
       "      <td>Aleksandar Panayotov Aleksandrov</td>\n",
       "      <td>Bulgaria</td>\n",
       "      <td>Man</td>\n",
       "      <td>Soyuz TM-5 (1988)</td>\n",
       "      <td>1</td>\n",
       "      <td>131686</td>\n",
       "    </tr>\n",
       "    <tr>\n",
       "      <th>221</th>\n",
       "      <td>Akihiko Hoshide</td>\n",
       "      <td>Japan</td>\n",
       "      <td>Man</td>\n",
       "      <td>STS-124 (2008), Soyuz TMA-05M (2012), SpaceX C...</td>\n",
       "      <td>3</td>\n",
       "      <td>2522894</td>\n",
       "    </tr>\n",
       "    <tr>\n",
       "      <th>222</th>\n",
       "      <td>Abdul Ahad Mohmand</td>\n",
       "      <td>Afghanistan</td>\n",
       "      <td>Man</td>\n",
       "      <td>Soyuz TM-6 (1988)</td>\n",
       "      <td>1</td>\n",
       "      <td>12746</td>\n",
       "    </tr>\n",
       "  </tbody>\n",
       "</table>\n",
       "<p>223 rows × 6 columns</p>\n",
       "</div>"
      ],
      "text/plain": [
       "                                 Name       country Gender  \\\n",
       "0                     Zhang Xiaoguang         China    Man   \n",
       "1                        Zhai Zhigang         China    Man   \n",
       "2                        Yury Usachov        Russia    Man   \n",
       "3                        Yuri Shargin        Russia    Man   \n",
       "4                      Yuri Romanenko  Soviet Union    Man   \n",
       "..                                ...           ...    ...   \n",
       "218             Aleksandr Ivanchenkov  Soviet Union    Man   \n",
       "219                Aleksandr Balandin  Soviet Union    Man   \n",
       "220  Aleksandar Panayotov Aleksandrov      Bulgaria    Man   \n",
       "221                   Akihiko Hoshide         Japan    Man   \n",
       "222                Abdul Ahad Mohmand   Afghanistan    Man   \n",
       "\n",
       "                                               Flights  Total Flights  \\\n",
       "0                                   Shenzhou 10 (2013)              1   \n",
       "1                                    Shenzhou 7 (2008)              1   \n",
       "2    Soyuz TM-18 (1994), Soyuz TM-23 (1996), STS-10...              4   \n",
       "3                                   Soyuz TMA-5 (2004)              1   \n",
       "4    Soyuz 26 (1977), Soyuz 38 (1980), Soyuz TM-2 (...              3   \n",
       "..                                                 ...            ...   \n",
       "218                                    Soyuz 29 (1978)              1   \n",
       "219                                  Soyuz TM-9 (1990)              1   \n",
       "220                                  Soyuz TM-5 (1988)              1   \n",
       "221  STS-124 (2008), Soyuz TMA-05M (2012), SpaceX C...              3   \n",
       "222                                  Soyuz TM-6 (1988)              1   \n",
       "\n",
       "     Total Flight Time in Minutes  \n",
       "0                           21028  \n",
       "1                            4106  \n",
       "2                          796224  \n",
       "3                           14249  \n",
       "4                          620301  \n",
       "..                            ...  \n",
       "218                        201047  \n",
       "219                        257837  \n",
       "220                        131686  \n",
       "221                       2522894  \n",
       "222                         12746  \n",
       "\n",
       "[223 rows x 6 columns]"
      ]
     },
     "execution_count": 80,
     "metadata": {},
     "output_type": "execute_result"
    }
   ],
   "source": [
    "internationalastro"
   ]
  },
  {
   "cell_type": "code",
   "execution_count": 78,
   "id": "835074cd-2f9e-4245-b98a-d84cfef6b774",
   "metadata": {},
   "outputs": [],
   "source": [
    "internationalastro = internationalastro.rename(columns={\"Country\": \"country\"})"
   ]
  },
  {
   "cell_type": "code",
   "execution_count": 81,
   "id": "0396444c-4716-4e69-b5db-371a13a9a4bc",
   "metadata": {},
   "outputs": [],
   "source": [
    "internationalastro = internationalastro.rename(columns={\"Gender\": \"gender\"})"
   ]
  },
  {
   "cell_type": "code",
   "execution_count": 82,
   "id": "679897f5-ce76-4e75-ab66-e993f82c00c7",
   "metadata": {},
   "outputs": [],
   "source": [
    "internationalastro = internationalastro.rename(columns={\"Total Flights\": \"total_flights\"})"
   ]
  },
  {
   "cell_type": "code",
   "execution_count": 83,
   "id": "5a4f0d1c-6d51-4ce1-9870-43014bdaf5df",
   "metadata": {},
   "outputs": [],
   "source": [
    "internationalastro = internationalastro.rename(columns={\"Total Flight Time in Minutes\": \"total_time\"})"
   ]
  },
  {
   "cell_type": "code",
   "execution_count": 84,
   "id": "06e295ae-6ce6-45e2-badb-6f6a9c8eccfc",
   "metadata": {},
   "outputs": [
    {
     "data": {
      "text/html": [
       "<div>\n",
       "<style scoped>\n",
       "    .dataframe tbody tr th:only-of-type {\n",
       "        vertical-align: middle;\n",
       "    }\n",
       "\n",
       "    .dataframe tbody tr th {\n",
       "        vertical-align: top;\n",
       "    }\n",
       "\n",
       "    .dataframe thead th {\n",
       "        text-align: right;\n",
       "    }\n",
       "</style>\n",
       "<table border=\"1\" class=\"dataframe\">\n",
       "  <thead>\n",
       "    <tr style=\"text-align: right;\">\n",
       "      <th></th>\n",
       "      <th>Name</th>\n",
       "      <th>country</th>\n",
       "      <th>gender</th>\n",
       "      <th>Flights</th>\n",
       "      <th>total_flights</th>\n",
       "      <th>total_time</th>\n",
       "    </tr>\n",
       "  </thead>\n",
       "  <tbody>\n",
       "    <tr>\n",
       "      <th>0</th>\n",
       "      <td>Zhang Xiaoguang</td>\n",
       "      <td>China</td>\n",
       "      <td>Man</td>\n",
       "      <td>Shenzhou 10 (2013)</td>\n",
       "      <td>1</td>\n",
       "      <td>21028</td>\n",
       "    </tr>\n",
       "    <tr>\n",
       "      <th>1</th>\n",
       "      <td>Zhai Zhigang</td>\n",
       "      <td>China</td>\n",
       "      <td>Man</td>\n",
       "      <td>Shenzhou 7 (2008)</td>\n",
       "      <td>1</td>\n",
       "      <td>4106</td>\n",
       "    </tr>\n",
       "    <tr>\n",
       "      <th>2</th>\n",
       "      <td>Yury Usachov</td>\n",
       "      <td>Russia</td>\n",
       "      <td>Man</td>\n",
       "      <td>Soyuz TM-18 (1994), Soyuz TM-23 (1996), STS-10...</td>\n",
       "      <td>4</td>\n",
       "      <td>796224</td>\n",
       "    </tr>\n",
       "    <tr>\n",
       "      <th>3</th>\n",
       "      <td>Yuri Shargin</td>\n",
       "      <td>Russia</td>\n",
       "      <td>Man</td>\n",
       "      <td>Soyuz TMA-5 (2004)</td>\n",
       "      <td>1</td>\n",
       "      <td>14249</td>\n",
       "    </tr>\n",
       "    <tr>\n",
       "      <th>4</th>\n",
       "      <td>Yuri Romanenko</td>\n",
       "      <td>Soviet Union</td>\n",
       "      <td>Man</td>\n",
       "      <td>Soyuz 26 (1977), Soyuz 38 (1980), Soyuz TM-2 (...</td>\n",
       "      <td>3</td>\n",
       "      <td>620301</td>\n",
       "    </tr>\n",
       "    <tr>\n",
       "      <th>...</th>\n",
       "      <td>...</td>\n",
       "      <td>...</td>\n",
       "      <td>...</td>\n",
       "      <td>...</td>\n",
       "      <td>...</td>\n",
       "      <td>...</td>\n",
       "    </tr>\n",
       "    <tr>\n",
       "      <th>218</th>\n",
       "      <td>Aleksandr Ivanchenkov</td>\n",
       "      <td>Soviet Union</td>\n",
       "      <td>Man</td>\n",
       "      <td>Soyuz 29 (1978)</td>\n",
       "      <td>1</td>\n",
       "      <td>201047</td>\n",
       "    </tr>\n",
       "    <tr>\n",
       "      <th>219</th>\n",
       "      <td>Aleksandr Balandin</td>\n",
       "      <td>Soviet Union</td>\n",
       "      <td>Man</td>\n",
       "      <td>Soyuz TM-9 (1990)</td>\n",
       "      <td>1</td>\n",
       "      <td>257837</td>\n",
       "    </tr>\n",
       "    <tr>\n",
       "      <th>220</th>\n",
       "      <td>Aleksandar Panayotov Aleksandrov</td>\n",
       "      <td>Bulgaria</td>\n",
       "      <td>Man</td>\n",
       "      <td>Soyuz TM-5 (1988)</td>\n",
       "      <td>1</td>\n",
       "      <td>131686</td>\n",
       "    </tr>\n",
       "    <tr>\n",
       "      <th>221</th>\n",
       "      <td>Akihiko Hoshide</td>\n",
       "      <td>Japan</td>\n",
       "      <td>Man</td>\n",
       "      <td>STS-124 (2008), Soyuz TMA-05M (2012), SpaceX C...</td>\n",
       "      <td>3</td>\n",
       "      <td>2522894</td>\n",
       "    </tr>\n",
       "    <tr>\n",
       "      <th>222</th>\n",
       "      <td>Abdul Ahad Mohmand</td>\n",
       "      <td>Afghanistan</td>\n",
       "      <td>Man</td>\n",
       "      <td>Soyuz TM-6 (1988)</td>\n",
       "      <td>1</td>\n",
       "      <td>12746</td>\n",
       "    </tr>\n",
       "  </tbody>\n",
       "</table>\n",
       "<p>223 rows × 6 columns</p>\n",
       "</div>"
      ],
      "text/plain": [
       "                                 Name       country gender  \\\n",
       "0                     Zhang Xiaoguang         China    Man   \n",
       "1                        Zhai Zhigang         China    Man   \n",
       "2                        Yury Usachov        Russia    Man   \n",
       "3                        Yuri Shargin        Russia    Man   \n",
       "4                      Yuri Romanenko  Soviet Union    Man   \n",
       "..                                ...           ...    ...   \n",
       "218             Aleksandr Ivanchenkov  Soviet Union    Man   \n",
       "219                Aleksandr Balandin  Soviet Union    Man   \n",
       "220  Aleksandar Panayotov Aleksandrov      Bulgaria    Man   \n",
       "221                   Akihiko Hoshide         Japan    Man   \n",
       "222                Abdul Ahad Mohmand   Afghanistan    Man   \n",
       "\n",
       "                                               Flights  total_flights  \\\n",
       "0                                   Shenzhou 10 (2013)              1   \n",
       "1                                    Shenzhou 7 (2008)              1   \n",
       "2    Soyuz TM-18 (1994), Soyuz TM-23 (1996), STS-10...              4   \n",
       "3                                   Soyuz TMA-5 (2004)              1   \n",
       "4    Soyuz 26 (1977), Soyuz 38 (1980), Soyuz TM-2 (...              3   \n",
       "..                                                 ...            ...   \n",
       "218                                    Soyuz 29 (1978)              1   \n",
       "219                                  Soyuz TM-9 (1990)              1   \n",
       "220                                  Soyuz TM-5 (1988)              1   \n",
       "221  STS-124 (2008), Soyuz TMA-05M (2012), SpaceX C...              3   \n",
       "222                                  Soyuz TM-6 (1988)              1   \n",
       "\n",
       "     total_time  \n",
       "0         21028  \n",
       "1          4106  \n",
       "2        796224  \n",
       "3         14249  \n",
       "4        620301  \n",
       "..          ...  \n",
       "218      201047  \n",
       "219      257837  \n",
       "220      131686  \n",
       "221     2522894  \n",
       "222       12746  \n",
       "\n",
       "[223 rows x 6 columns]"
      ]
     },
     "execution_count": 84,
     "metadata": {},
     "output_type": "execute_result"
    }
   ],
   "source": [
    "internationalastro"
   ]
  },
  {
   "cell_type": "code",
   "execution_count": 85,
   "id": "09486d6f-0311-4506-bbb9-c32f4ead3783",
   "metadata": {},
   "outputs": [],
   "source": [
    "internationalastro.to_csv(\"International_Astronaut_Database_cleaned.csv\", index=False)"
   ]
  },
  {
   "cell_type": "code",
   "execution_count": 90,
   "id": "101d730d-9054-415b-9f3f-a08cd2a25ed1",
   "metadata": {},
   "outputs": [
    {
     "data": {
      "text/plain": [
       "270523.45739910315"
      ]
     },
     "execution_count": 90,
     "metadata": {},
     "output_type": "execute_result"
    }
   ],
   "source": [
    "mean_minutes = internationalastro[\"total_time\"].mean()\n",
    "mean_minutes"
   ]
  },
  {
   "cell_type": "code",
   "execution_count": 92,
   "id": "ed1450fc-7fb2-4942-a838-c454a4343539",
   "metadata": {},
   "outputs": [],
   "source": [
    "internationalastro = internationalastro[internationalastro[\"country\"] != \"Peru\"]"
   ]
  },
  {
   "cell_type": "code",
   "execution_count": 95,
   "id": "a248c78a-6169-454e-8057-e0978db179ac",
   "metadata": {},
   "outputs": [],
   "source": [
    "internationalastro.to_csv(\"international_astronauts.csv\", index=False)"
   ]
  },
  {
   "cell_type": "code",
   "execution_count": 96,
   "id": "6b2bd3a2-6c25-4d45-a145-83ebeaf70e69",
   "metadata": {},
   "outputs": [],
   "source": [
    "nasa = pd.read_csv(\"nasa_new.csv\")"
   ]
  },
  {
   "cell_type": "code",
   "execution_count": 98,
   "id": "6d994486-60aa-4614-8561-97b7cea6eb0a",
   "metadata": {},
   "outputs": [],
   "source": [
    "nasa = nasa[nasa[\"Country\"] != \"Peru\"]"
   ]
  },
  {
   "cell_type": "code",
   "execution_count": 100,
   "id": "3c1b45d1-b4fc-453d-8c8b-786c693d5d41",
   "metadata": {},
   "outputs": [],
   "source": [
    "nasa.to_csv(\"nasa_new.csv\", index=False)"
   ]
  },
  {
   "cell_type": "code",
   "execution_count": 1,
   "id": "eff3c1c9-5bb2-4b21-a6cf-3c48f7b9c0da",
   "metadata": {},
   "outputs": [],
   "source": [
    "us_states = [\n",
    "    \"Alabama\",\"Alaska\",\"Arizona\",\"Arkansas\",\"California\",\"Colorado\",\"Connecticut\",\n",
    "    \"Delaware\",\"Florida\",\"Georgia\",\"Hawaii\",\"Idaho\",\"Illinois\",\"Indiana\",\"Iowa\",\n",
    "    \"Kansas\",\"Kentucky\",\"Louisiana\",\"Maine\",\"Maryland\",\"Massachusetts\",\"Michigan\",\n",
    "    \"Minnesota\",\"Mississippi\",\"Missouri\",\"Montana\",\"Nebraska\",\"Nevada\",\"New Hampshire\",\n",
    "    \"New Jersey\",\"New Mexico\",\"New York\",\"North Carolina\",\"North Dakota\",\"Ohio\",\n",
    "    \"Oklahoma\",\"Oregon\",\"Pennsylvania\",\"Rhode Island\",\"South Carolina\",\"South Dakota\",\n",
    "    \"Tennessee\",\"Texas\",\"Utah\",\"Vermont\",\"Virginia\",\"Washington\",\"West Virginia\",\n",
    "    \"Wisconsin\",\"Wyoming\"\n",
    "] #asked chatgpt to write out all the states to save time"
   ]
  },
  {
   "cell_type": "code",
   "execution_count": 102,
   "id": "d419de40-aa7d-4c99-a0bb-4474c5dbe4d6",
   "metadata": {},
   "outputs": [],
   "source": [
    "nasa_states_only = nasa[nasa[\"Birth Place\"].isin(us_states)]"
   ]
  },
  {
   "cell_type": "code",
   "execution_count": 105,
   "id": "3d57a718-e084-4279-9479-90eec57babe0",
   "metadata": {},
   "outputs": [
    {
     "data": {
      "text/plain": [
       "0             Texas\n",
       "1        California\n",
       "2          Michigan\n",
       "3      Pennsylvania\n",
       "4      Pennsylvania\n",
       "           ...     \n",
       "263      New Jersey\n",
       "264        Oklahoma\n",
       "265    Rhode Island\n",
       "266       Tennessee\n",
       "267         Florida\n",
       "Name: Birth Place, Length: 249, dtype: object"
      ]
     },
     "execution_count": 105,
     "metadata": {},
     "output_type": "execute_result"
    }
   ],
   "source": [
    "nasa_states_only[\"Birth Place\"]"
   ]
  },
  {
   "cell_type": "code",
   "execution_count": 106,
   "id": "ebabc784-3164-4890-9a34-e1ea50a201ed",
   "metadata": {},
   "outputs": [],
   "source": [
    "regions = {\n",
    "    \"Northeast\": [\n",
    "        \"Connecticut\",\"Maine\",\"Massachusetts\",\"New Hampshire\",\"Rhode Island\",\"Vermont\",\n",
    "        \"New Jersey\",\"New York\",\"Pennsylvania\"\n",
    "    ],\n",
    "    \"Midwest\": [\n",
    "        \"Illinois\",\"Indiana\",\"Iowa\",\"Kansas\",\"Michigan\",\"Minnesota\",\"Missouri\",\"Nebraska\",\n",
    "        \"North Dakota\",\"Ohio\",\"South Dakota\",\"Wisconsin\"\n",
    "    ],\n",
    "    \"South\": [\n",
    "        \"Alabama\",\"Arkansas\",\"Delaware\",\"Florida\",\"Georgia\",\"Kentucky\",\"Louisiana\",\n",
    "        \"Maryland\",\"Mississippi\",\"North Carolina\",\"Oklahoma\",\"South Carolina\",\"Tennessee\",\n",
    "        \"Texas\",\"Virginia\",\"West Virginia\",\"District of Columbia\"\n",
    "    ],\n",
    "    \"West\": [\n",
    "        \"Alaska\",\"Arizona\",\"California\",\"Colorado\",\"Hawaii\",\"Idaho\",\"Montana\",\"Nevada\",\n",
    "        \"New Mexico\",\"Oregon\",\"Utah\",\"Washington\",\"Wyoming\"\n",
    "    ]\n",
    "} #asked chatgpt to sort these"
   ]
  },
  {
   "cell_type": "code",
   "execution_count": 107,
   "id": "d2912c40-7073-49c6-9b8c-5a6b058cbc20",
   "metadata": {},
   "outputs": [],
   "source": [
    "state_to_region = {state: region for region, states in regions.items() for state in states}"
   ]
  },
  {
   "cell_type": "code",
   "execution_count": 111,
   "id": "0aa71702-dc37-4b2d-8ba0-0bd9e0182305",
   "metadata": {},
   "outputs": [
    {
     "name": "stderr",
     "output_type": "stream",
     "text": [
      "/var/folders/2h/6x0q27m90lj5ymx_mjhdwb1w0000gn/T/ipykernel_69231/1529453957.py:1: SettingWithCopyWarning: \n",
      "A value is trying to be set on a copy of a slice from a DataFrame.\n",
      "Try using .loc[row_indexer,col_indexer] = value instead\n",
      "\n",
      "See the caveats in the documentation: https://pandas.pydata.org/pandas-docs/stable/user_guide/indexing.html#returning-a-view-versus-a-copy\n",
      "  nasa_states_only.loc[:, \"Region\"] = nasa[\"Birth Place\"].map(state_to_region)\n"
     ]
    }
   ],
   "source": [
    "nasa_states_only.loc[:, \"Region\"] = nasa[\"Birth Place\"].map(state_to_region)"
   ]
  },
  {
   "cell_type": "code",
   "execution_count": 112,
   "id": "26232e6e-8a8d-442f-8660-a5595dd558f1",
   "metadata": {},
   "outputs": [],
   "source": [
    "nasa_states_only.to_csv(\"nasa_new.csv\", index=False)"
   ]
  },
  {
   "cell_type": "code",
   "execution_count": null,
   "id": "ae9ce848-57a2-4830-82b9-020b4bebbfdb",
   "metadata": {},
   "outputs": [],
   "source": []
  }
 ],
 "metadata": {
  "kernelspec": {
   "display_name": "Python [conda env:base] *",
   "language": "python",
   "name": "conda-base-py"
  },
  "language_info": {
   "codemirror_mode": {
    "name": "ipython",
    "version": 3
   },
   "file_extension": ".py",
   "mimetype": "text/x-python",
   "name": "python",
   "nbconvert_exporter": "python",
   "pygments_lexer": "ipython3",
   "version": "3.13.5"
  }
 },
 "nbformat": 4,
 "nbformat_minor": 5
}
